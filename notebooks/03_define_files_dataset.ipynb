{
 "cells": [
  {
   "cell_type": "markdown",
   "metadata": {},
   "source": [
    "# DEV"
   ]
  },
  {
   "cell_type": "code",
   "execution_count": 2,
   "metadata": {},
   "outputs": [],
   "source": [
    "import pandas as pd\n",
    "\n",
    "\n",
    "dev = pd.read_csv('../resources/reports/dev.csv')\n",
    "dev_details = pd.read_csv('../resources/reports/dev_details.csv')"
   ]
  },
  {
   "cell_type": "code",
   "execution_count": 5,
   "metadata": {},
   "outputs": [],
   "source": [
    "ecg = dev_details[dev_details['ecg']==True]"
   ]
  },
  {
   "cell_type": "code",
   "execution_count": 6,
   "metadata": {},
   "outputs": [
    {
     "data": {
      "text/plain": [
       "freq\n",
       "250     41\n",
       "256    210\n",
       "400      7\n",
       "Name: freq, dtype: int64"
      ]
     },
     "execution_count": 6,
     "metadata": {},
     "output_type": "execute_result"
    }
   ],
   "source": [
    "ecg.groupby('freq')['freq'].count()"
   ]
  },
  {
   "cell_type": "code",
   "execution_count": 7,
   "metadata": {},
   "outputs": [
    {
     "data": {
      "text/plain": [
       "258"
      ]
     },
     "execution_count": 7,
     "metadata": {},
     "output_type": "execute_result"
    }
   ],
   "source": [
    "len(ecg)"
   ]
  },
  {
   "cell_type": "code",
   "execution_count": 8,
   "metadata": {},
   "outputs": [
    {
     "data": {
      "text/html": [
       "<div>\n",
       "<style scoped>\n",
       "    .dataframe tbody tr th:only-of-type {\n",
       "        vertical-align: middle;\n",
       "    }\n",
       "\n",
       "    .dataframe tbody tr th {\n",
       "        vertical-align: top;\n",
       "    }\n",
       "\n",
       "    .dataframe thead th {\n",
       "        text-align: right;\n",
       "    }\n",
       "</style>\n",
       "<table border=\"1\" class=\"dataframe\">\n",
       "  <thead>\n",
       "    <tr style=\"text-align: right;\">\n",
       "      <th></th>\n",
       "      <th>Index</th>\n",
       "      <th>File No.</th>\n",
       "      <th>Patient</th>\n",
       "      <th>Session</th>\n",
       "      <th>File</th>\n",
       "      <th>EEG Type</th>\n",
       "      <th>EEG SubType</th>\n",
       "      <th>LTM -or- Routine</th>\n",
       "      <th>Normal/ Abnormal</th>\n",
       "      <th>No. Seizures/ File</th>\n",
       "      <th>No. Seizures/ Session</th>\n",
       "      <th>Filename</th>\n",
       "      <th>Start</th>\n",
       "      <th>Stop</th>\n",
       "      <th>Seizure Type</th>\n",
       "      <th>dataset</th>\n",
       "    </tr>\n",
       "  </thead>\n",
       "  <tbody>\n",
       "    <tr>\n",
       "      <th>0</th>\n",
       "      <td>5.0</td>\n",
       "      <td>5.0</td>\n",
       "      <td>NaN</td>\n",
       "      <td>NaN</td>\n",
       "      <td>t002</td>\n",
       "      <td>NaN</td>\n",
       "      <td>NaN</td>\n",
       "      <td>NaN</td>\n",
       "      <td>NaN</td>\n",
       "      <td>1.0</td>\n",
       "      <td>NaN</td>\n",
       "      <td>./dev/01_tcp_ar/002/00000258/s003_2003_07_22/0...</td>\n",
       "      <td>8.8275</td>\n",
       "      <td>173.3791</td>\n",
       "      <td>TCSZ</td>\n",
       "      <td>dev</td>\n",
       "    </tr>\n",
       "    <tr>\n",
       "      <th>1</th>\n",
       "      <td>6.0</td>\n",
       "      <td>6.0</td>\n",
       "      <td>NaN</td>\n",
       "      <td>NaN</td>\n",
       "      <td>t003</td>\n",
       "      <td>NaN</td>\n",
       "      <td>NaN</td>\n",
       "      <td>NaN</td>\n",
       "      <td>NaN</td>\n",
       "      <td>1.0</td>\n",
       "      <td>NaN</td>\n",
       "      <td>./dev/01_tcp_ar/002/00000258/s003_2003_07_22/0...</td>\n",
       "      <td>3.9623</td>\n",
       "      <td>175.5054</td>\n",
       "      <td>TCSZ</td>\n",
       "      <td>dev</td>\n",
       "    </tr>\n",
       "    <tr>\n",
       "      <th>2</th>\n",
       "      <td>7.0</td>\n",
       "      <td>7.0</td>\n",
       "      <td>NaN</td>\n",
       "      <td>NaN</td>\n",
       "      <td>t004</td>\n",
       "      <td>NaN</td>\n",
       "      <td>NaN</td>\n",
       "      <td>NaN</td>\n",
       "      <td>NaN</td>\n",
       "      <td>1.0</td>\n",
       "      <td>NaN</td>\n",
       "      <td>./dev/01_tcp_ar/002/00000258/s003_2003_07_22/0...</td>\n",
       "      <td>1.0000</td>\n",
       "      <td>150.5157</td>\n",
       "      <td>TCSZ</td>\n",
       "      <td>dev</td>\n",
       "    </tr>\n",
       "    <tr>\n",
       "      <th>3</th>\n",
       "      <td>8.0</td>\n",
       "      <td>8.0</td>\n",
       "      <td>NaN</td>\n",
       "      <td>NaN</td>\n",
       "      <td>t005</td>\n",
       "      <td>NaN</td>\n",
       "      <td>NaN</td>\n",
       "      <td>NaN</td>\n",
       "      <td>NaN</td>\n",
       "      <td>1.0</td>\n",
       "      <td>NaN</td>\n",
       "      <td>./dev/01_tcp_ar/002/00000258/s003_2003_07_22/0...</td>\n",
       "      <td>207.9101</td>\n",
       "      <td>308.0000</td>\n",
       "      <td>FNSZ</td>\n",
       "      <td>dev</td>\n",
       "    </tr>\n",
       "    <tr>\n",
       "      <th>4</th>\n",
       "      <td>16.0</td>\n",
       "      <td>16.0</td>\n",
       "      <td>1027.0</td>\n",
       "      <td>s004</td>\n",
       "      <td>t000</td>\n",
       "      <td>Unknown</td>\n",
       "      <td>Unknown</td>\n",
       "      <td>LTM</td>\n",
       "      <td>Abnormal</td>\n",
       "      <td>1.0</td>\n",
       "      <td>3.0</td>\n",
       "      <td>./dev/01_tcp_ar/010/00001027/s004_2004_01_30/0...</td>\n",
       "      <td>34.0551</td>\n",
       "      <td>162.3118</td>\n",
       "      <td>CPSZ</td>\n",
       "      <td>dev</td>\n",
       "    </tr>\n",
       "    <tr>\n",
       "      <th>...</th>\n",
       "      <td>...</td>\n",
       "      <td>...</td>\n",
       "      <td>...</td>\n",
       "      <td>...</td>\n",
       "      <td>...</td>\n",
       "      <td>...</td>\n",
       "      <td>...</td>\n",
       "      <td>...</td>\n",
       "      <td>...</td>\n",
       "      <td>...</td>\n",
       "      <td>...</td>\n",
       "      <td>...</td>\n",
       "      <td>...</td>\n",
       "      <td>...</td>\n",
       "      <td>...</td>\n",
       "      <td>...</td>\n",
       "    </tr>\n",
       "    <tr>\n",
       "      <th>275</th>\n",
       "      <td>1392.0</td>\n",
       "      <td>999.0</td>\n",
       "      <td>NaN</td>\n",
       "      <td>NaN</td>\n",
       "      <td>t005</td>\n",
       "      <td>NaN</td>\n",
       "      <td>NaN</td>\n",
       "      <td>NaN</td>\n",
       "      <td>NaN</td>\n",
       "      <td>1.0</td>\n",
       "      <td>NaN</td>\n",
       "      <td>./dev/03_tcp_ar_a/065/00006546/s011_2011_02_16...</td>\n",
       "      <td>10.9250</td>\n",
       "      <td>24.9600</td>\n",
       "      <td>FNSZ</td>\n",
       "      <td>dev</td>\n",
       "    </tr>\n",
       "    <tr>\n",
       "      <th>276</th>\n",
       "      <td>1399.0</td>\n",
       "      <td>1006.0</td>\n",
       "      <td>NaN</td>\n",
       "      <td>NaN</td>\n",
       "      <td>t004</td>\n",
       "      <td>NaN</td>\n",
       "      <td>NaN</td>\n",
       "      <td>NaN</td>\n",
       "      <td>NaN</td>\n",
       "      <td>1.0</td>\n",
       "      <td>NaN</td>\n",
       "      <td>./dev/03_tcp_ar_a/065/00006546/s012_2011_02_17...</td>\n",
       "      <td>60.4525</td>\n",
       "      <td>77.9900</td>\n",
       "      <td>FNSZ</td>\n",
       "      <td>dev</td>\n",
       "    </tr>\n",
       "    <tr>\n",
       "      <th>277</th>\n",
       "      <td>1400.0</td>\n",
       "      <td>1007.0</td>\n",
       "      <td>6546.0</td>\n",
       "      <td>s013</td>\n",
       "      <td>t000</td>\n",
       "      <td>Inpatient</td>\n",
       "      <td>General</td>\n",
       "      <td>LTM</td>\n",
       "      <td>Abnormal</td>\n",
       "      <td>1.0</td>\n",
       "      <td>1.0</td>\n",
       "      <td>./dev/03_tcp_ar_a/065/00006546/s013_2011_02_18...</td>\n",
       "      <td>290.0175</td>\n",
       "      <td>361.0775</td>\n",
       "      <td>TCSZ</td>\n",
       "      <td>dev</td>\n",
       "    </tr>\n",
       "    <tr>\n",
       "      <th>278</th>\n",
       "      <td>1405.0</td>\n",
       "      <td>1012.0</td>\n",
       "      <td>6546.0</td>\n",
       "      <td>s016</td>\n",
       "      <td>t000</td>\n",
       "      <td>Outpatient</td>\n",
       "      <td>Outpatient</td>\n",
       "      <td>Routine</td>\n",
       "      <td>Abnormal</td>\n",
       "      <td>1.0</td>\n",
       "      <td>2.0</td>\n",
       "      <td>./dev/03_tcp_ar_a/065/00006546/s016_2011_03_15...</td>\n",
       "      <td>294.0000</td>\n",
       "      <td>314.0925</td>\n",
       "      <td>FNSZ</td>\n",
       "      <td>dev</td>\n",
       "    </tr>\n",
       "    <tr>\n",
       "      <th>279</th>\n",
       "      <td>1406.0</td>\n",
       "      <td>1013.0</td>\n",
       "      <td>NaN</td>\n",
       "      <td>NaN</td>\n",
       "      <td>t001</td>\n",
       "      <td>NaN</td>\n",
       "      <td>NaN</td>\n",
       "      <td>NaN</td>\n",
       "      <td>NaN</td>\n",
       "      <td>1.0</td>\n",
       "      <td>NaN</td>\n",
       "      <td>./dev/03_tcp_ar_a/065/00006546/s016_2011_03_15...</td>\n",
       "      <td>184.9425</td>\n",
       "      <td>215.0000</td>\n",
       "      <td>FNSZ</td>\n",
       "      <td>dev</td>\n",
       "    </tr>\n",
       "  </tbody>\n",
       "</table>\n",
       "<p>280 rows × 16 columns</p>\n",
       "</div>"
      ],
      "text/plain": [
       "      Index  File No.  Patient Session  File    EEG Type EEG SubType  \\\n",
       "0       5.0       5.0      NaN     NaN  t002         NaN         NaN   \n",
       "1       6.0       6.0      NaN     NaN  t003         NaN         NaN   \n",
       "2       7.0       7.0      NaN     NaN  t004         NaN         NaN   \n",
       "3       8.0       8.0      NaN     NaN  t005         NaN         NaN   \n",
       "4      16.0      16.0   1027.0    s004  t000     Unknown     Unknown   \n",
       "..      ...       ...      ...     ...   ...         ...         ...   \n",
       "275  1392.0     999.0      NaN     NaN  t005         NaN         NaN   \n",
       "276  1399.0    1006.0      NaN     NaN  t004         NaN         NaN   \n",
       "277  1400.0    1007.0   6546.0    s013  t000   Inpatient     General   \n",
       "278  1405.0    1012.0   6546.0    s016  t000  Outpatient  Outpatient   \n",
       "279  1406.0    1013.0      NaN     NaN  t001         NaN         NaN   \n",
       "\n",
       "    LTM -or- Routine Normal/ Abnormal  No. Seizures/ File  \\\n",
       "0                NaN              NaN                 1.0   \n",
       "1                NaN              NaN                 1.0   \n",
       "2                NaN              NaN                 1.0   \n",
       "3                NaN              NaN                 1.0   \n",
       "4                LTM         Abnormal                 1.0   \n",
       "..               ...              ...                 ...   \n",
       "275              NaN              NaN                 1.0   \n",
       "276              NaN              NaN                 1.0   \n",
       "277              LTM         Abnormal                 1.0   \n",
       "278          Routine         Abnormal                 1.0   \n",
       "279              NaN              NaN                 1.0   \n",
       "\n",
       "     No. Seizures/ Session                                           Filename  \\\n",
       "0                      NaN  ./dev/01_tcp_ar/002/00000258/s003_2003_07_22/0...   \n",
       "1                      NaN  ./dev/01_tcp_ar/002/00000258/s003_2003_07_22/0...   \n",
       "2                      NaN  ./dev/01_tcp_ar/002/00000258/s003_2003_07_22/0...   \n",
       "3                      NaN  ./dev/01_tcp_ar/002/00000258/s003_2003_07_22/0...   \n",
       "4                      3.0  ./dev/01_tcp_ar/010/00001027/s004_2004_01_30/0...   \n",
       "..                     ...                                                ...   \n",
       "275                    NaN  ./dev/03_tcp_ar_a/065/00006546/s011_2011_02_16...   \n",
       "276                    NaN  ./dev/03_tcp_ar_a/065/00006546/s012_2011_02_17...   \n",
       "277                    1.0  ./dev/03_tcp_ar_a/065/00006546/s013_2011_02_18...   \n",
       "278                    2.0  ./dev/03_tcp_ar_a/065/00006546/s016_2011_03_15...   \n",
       "279                    NaN  ./dev/03_tcp_ar_a/065/00006546/s016_2011_03_15...   \n",
       "\n",
       "        Start      Stop Seizure Type dataset  \n",
       "0      8.8275  173.3791         TCSZ     dev  \n",
       "1      3.9623  175.5054         TCSZ     dev  \n",
       "2      1.0000  150.5157         TCSZ     dev  \n",
       "3    207.9101  308.0000         FNSZ     dev  \n",
       "4     34.0551  162.3118         CPSZ     dev  \n",
       "..        ...       ...          ...     ...  \n",
       "275   10.9250   24.9600         FNSZ     dev  \n",
       "276   60.4525   77.9900         FNSZ     dev  \n",
       "277  290.0175  361.0775         TCSZ     dev  \n",
       "278  294.0000  314.0925         FNSZ     dev  \n",
       "279  184.9425  215.0000         FNSZ     dev  \n",
       "\n",
       "[280 rows x 16 columns]"
      ]
     },
     "execution_count": 8,
     "metadata": {},
     "output_type": "execute_result"
    }
   ],
   "source": [
    "dev"
   ]
  },
  {
   "cell_type": "code",
   "execution_count": 9,
   "metadata": {},
   "outputs": [],
   "source": [
    "df = pd.merge(dev,ecg,left_on='Filename',right_on='file').iloc[:,1:]\n"
   ]
  },
  {
   "cell_type": "code",
   "execution_count": 10,
   "metadata": {},
   "outputs": [
    {
     "data": {
      "text/plain": [
       "array(['TCSZ', 'FNSZ', 'CPSZ', 'GNSZ', 'SPSZ', 'MYSZ', 'TNSZ', 'ABSZ'],\n",
       "      dtype=object)"
      ]
     },
     "execution_count": 10,
     "metadata": {},
     "output_type": "execute_result"
    }
   ],
   "source": [
    "df['Seizure Type'].unique()"
   ]
  },
  {
   "cell_type": "code",
   "execution_count": 11,
   "metadata": {},
   "outputs": [
    {
     "data": {
      "text/plain": [
       "Seizure Type\n",
       "ABSZ      6\n",
       "CPSZ     27\n",
       "FNSZ    137\n",
       "GNSZ     51\n",
       "MYSZ      1\n",
       "SPSZ      1\n",
       "TCSZ     16\n",
       "TNSZ     19\n",
       "Name: Seizure Type, dtype: int64"
      ]
     },
     "execution_count": 11,
     "metadata": {},
     "output_type": "execute_result"
    }
   ],
   "source": [
    "df.groupby('Seizure Type')['Seizure Type'].count()"
   ]
  },
  {
   "cell_type": "code",
   "execution_count": 14,
   "metadata": {},
   "outputs": [
    {
     "data": {
      "text/html": [
       "<div>\n",
       "<style scoped>\n",
       "    .dataframe tbody tr th:only-of-type {\n",
       "        vertical-align: middle;\n",
       "    }\n",
       "\n",
       "    .dataframe tbody tr th {\n",
       "        vertical-align: top;\n",
       "    }\n",
       "\n",
       "    .dataframe thead th {\n",
       "        text-align: right;\n",
       "    }\n",
       "</style>\n",
       "<table border=\"1\" class=\"dataframe\">\n",
       "  <thead>\n",
       "    <tr style=\"text-align: right;\">\n",
       "      <th></th>\n",
       "      <th>File No.</th>\n",
       "      <th>Patient</th>\n",
       "      <th>Session</th>\n",
       "      <th>File</th>\n",
       "      <th>EEG Type</th>\n",
       "      <th>EEG SubType</th>\n",
       "      <th>LTM -or- Routine</th>\n",
       "      <th>Normal/ Abnormal</th>\n",
       "      <th>No. Seizures/ File</th>\n",
       "      <th>No. Seizures/ Session</th>\n",
       "      <th>Filename</th>\n",
       "      <th>Start</th>\n",
       "      <th>Stop</th>\n",
       "      <th>Seizure Type</th>\n",
       "      <th>dataset</th>\n",
       "      <th>file</th>\n",
       "      <th>freq</th>\n",
       "      <th>ecg</th>\n",
       "      <th>emg</th>\n",
       "    </tr>\n",
       "  </thead>\n",
       "  <tbody>\n",
       "    <tr>\n",
       "      <th>0</th>\n",
       "      <td>5.0</td>\n",
       "      <td>NaN</td>\n",
       "      <td>NaN</td>\n",
       "      <td>t002</td>\n",
       "      <td>NaN</td>\n",
       "      <td>NaN</td>\n",
       "      <td>NaN</td>\n",
       "      <td>NaN</td>\n",
       "      <td>1.0</td>\n",
       "      <td>NaN</td>\n",
       "      <td>./dev/01_tcp_ar/002/00000258/s003_2003_07_22/0...</td>\n",
       "      <td>8.8275</td>\n",
       "      <td>173.3791</td>\n",
       "      <td>TCSZ</td>\n",
       "      <td>dev</td>\n",
       "      <td>./dev/01_tcp_ar/002/00000258/s003_2003_07_22/0...</td>\n",
       "      <td>400</td>\n",
       "      <td>True</td>\n",
       "      <td>False</td>\n",
       "    </tr>\n",
       "    <tr>\n",
       "      <th>1</th>\n",
       "      <td>6.0</td>\n",
       "      <td>NaN</td>\n",
       "      <td>NaN</td>\n",
       "      <td>t003</td>\n",
       "      <td>NaN</td>\n",
       "      <td>NaN</td>\n",
       "      <td>NaN</td>\n",
       "      <td>NaN</td>\n",
       "      <td>1.0</td>\n",
       "      <td>NaN</td>\n",
       "      <td>./dev/01_tcp_ar/002/00000258/s003_2003_07_22/0...</td>\n",
       "      <td>3.9623</td>\n",
       "      <td>175.5054</td>\n",
       "      <td>TCSZ</td>\n",
       "      <td>dev</td>\n",
       "      <td>./dev/01_tcp_ar/002/00000258/s003_2003_07_22/0...</td>\n",
       "      <td>400</td>\n",
       "      <td>True</td>\n",
       "      <td>False</td>\n",
       "    </tr>\n",
       "    <tr>\n",
       "      <th>2</th>\n",
       "      <td>7.0</td>\n",
       "      <td>NaN</td>\n",
       "      <td>NaN</td>\n",
       "      <td>t004</td>\n",
       "      <td>NaN</td>\n",
       "      <td>NaN</td>\n",
       "      <td>NaN</td>\n",
       "      <td>NaN</td>\n",
       "      <td>1.0</td>\n",
       "      <td>NaN</td>\n",
       "      <td>./dev/01_tcp_ar/002/00000258/s003_2003_07_22/0...</td>\n",
       "      <td>1.0000</td>\n",
       "      <td>150.5157</td>\n",
       "      <td>TCSZ</td>\n",
       "      <td>dev</td>\n",
       "      <td>./dev/01_tcp_ar/002/00000258/s003_2003_07_22/0...</td>\n",
       "      <td>400</td>\n",
       "      <td>True</td>\n",
       "      <td>False</td>\n",
       "    </tr>\n",
       "    <tr>\n",
       "      <th>3</th>\n",
       "      <td>8.0</td>\n",
       "      <td>NaN</td>\n",
       "      <td>NaN</td>\n",
       "      <td>t005</td>\n",
       "      <td>NaN</td>\n",
       "      <td>NaN</td>\n",
       "      <td>NaN</td>\n",
       "      <td>NaN</td>\n",
       "      <td>1.0</td>\n",
       "      <td>NaN</td>\n",
       "      <td>./dev/01_tcp_ar/002/00000258/s003_2003_07_22/0...</td>\n",
       "      <td>207.9101</td>\n",
       "      <td>308.0000</td>\n",
       "      <td>FNSZ</td>\n",
       "      <td>dev</td>\n",
       "      <td>./dev/01_tcp_ar/002/00000258/s003_2003_07_22/0...</td>\n",
       "      <td>400</td>\n",
       "      <td>True</td>\n",
       "      <td>False</td>\n",
       "    </tr>\n",
       "    <tr>\n",
       "      <th>4</th>\n",
       "      <td>16.0</td>\n",
       "      <td>1027.0</td>\n",
       "      <td>s004</td>\n",
       "      <td>t000</td>\n",
       "      <td>Unknown</td>\n",
       "      <td>Unknown</td>\n",
       "      <td>LTM</td>\n",
       "      <td>Abnormal</td>\n",
       "      <td>1.0</td>\n",
       "      <td>3.0</td>\n",
       "      <td>./dev/01_tcp_ar/010/00001027/s004_2004_01_30/0...</td>\n",
       "      <td>34.0551</td>\n",
       "      <td>162.3118</td>\n",
       "      <td>CPSZ</td>\n",
       "      <td>dev</td>\n",
       "      <td>./dev/01_tcp_ar/010/00001027/s004_2004_01_30/0...</td>\n",
       "      <td>400</td>\n",
       "      <td>True</td>\n",
       "      <td>False</td>\n",
       "    </tr>\n",
       "    <tr>\n",
       "      <th>...</th>\n",
       "      <td>...</td>\n",
       "      <td>...</td>\n",
       "      <td>...</td>\n",
       "      <td>...</td>\n",
       "      <td>...</td>\n",
       "      <td>...</td>\n",
       "      <td>...</td>\n",
       "      <td>...</td>\n",
       "      <td>...</td>\n",
       "      <td>...</td>\n",
       "      <td>...</td>\n",
       "      <td>...</td>\n",
       "      <td>...</td>\n",
       "      <td>...</td>\n",
       "      <td>...</td>\n",
       "      <td>...</td>\n",
       "      <td>...</td>\n",
       "      <td>...</td>\n",
       "      <td>...</td>\n",
       "    </tr>\n",
       "    <tr>\n",
       "      <th>253</th>\n",
       "      <td>925.0</td>\n",
       "      <td>4087.0</td>\n",
       "      <td>s001</td>\n",
       "      <td>t000</td>\n",
       "      <td>Outpatient</td>\n",
       "      <td>Outpatient</td>\n",
       "      <td>Routine</td>\n",
       "      <td>Abnormal</td>\n",
       "      <td>1.0</td>\n",
       "      <td>1.0</td>\n",
       "      <td>./dev/02_tcp_le/040/00004087/s001_2007_06_26/0...</td>\n",
       "      <td>1126.7680</td>\n",
       "      <td>1143.0680</td>\n",
       "      <td>FNSZ</td>\n",
       "      <td>dev</td>\n",
       "      <td>./dev/02_tcp_le/040/00004087/s001_2007_06_26/0...</td>\n",
       "      <td>250</td>\n",
       "      <td>True</td>\n",
       "      <td>False</td>\n",
       "    </tr>\n",
       "    <tr>\n",
       "      <th>254</th>\n",
       "      <td>927.0</td>\n",
       "      <td>4151.0</td>\n",
       "      <td>s001</td>\n",
       "      <td>t001</td>\n",
       "      <td>ICU</td>\n",
       "      <td>NSICU</td>\n",
       "      <td>Routine</td>\n",
       "      <td>Abnormal</td>\n",
       "      <td>3.0</td>\n",
       "      <td>3.0</td>\n",
       "      <td>./dev/02_tcp_le/041/00004151/s001_2007_09_25/0...</td>\n",
       "      <td>57.2880</td>\n",
       "      <td>162.7440</td>\n",
       "      <td>FNSZ</td>\n",
       "      <td>dev</td>\n",
       "      <td>./dev/02_tcp_le/041/00004151/s001_2007_09_25/0...</td>\n",
       "      <td>250</td>\n",
       "      <td>True</td>\n",
       "      <td>False</td>\n",
       "    </tr>\n",
       "    <tr>\n",
       "      <th>255</th>\n",
       "      <td>937.0</td>\n",
       "      <td>5213.0</td>\n",
       "      <td>s001</td>\n",
       "      <td>t000</td>\n",
       "      <td>Outpatient</td>\n",
       "      <td>Outpatient</td>\n",
       "      <td>Routine</td>\n",
       "      <td>Abnormal</td>\n",
       "      <td>1.0</td>\n",
       "      <td>1.0</td>\n",
       "      <td>./dev/02_tcp_le/052/00005213/s001_2007_12_06/0...</td>\n",
       "      <td>341.6960</td>\n",
       "      <td>378.0354</td>\n",
       "      <td>FNSZ</td>\n",
       "      <td>dev</td>\n",
       "      <td>./dev/02_tcp_le/052/00005213/s001_2007_12_06/0...</td>\n",
       "      <td>250</td>\n",
       "      <td>True</td>\n",
       "      <td>False</td>\n",
       "    </tr>\n",
       "    <tr>\n",
       "      <th>256</th>\n",
       "      <td>944.0</td>\n",
       "      <td>5625.0</td>\n",
       "      <td>s002</td>\n",
       "      <td>t001</td>\n",
       "      <td>EMU</td>\n",
       "      <td>EMU</td>\n",
       "      <td>Routine</td>\n",
       "      <td>Abnormal</td>\n",
       "      <td>2.0</td>\n",
       "      <td>2.0</td>\n",
       "      <td>./dev/02_tcp_le/056/00005625/s002_2010_03_29/0...</td>\n",
       "      <td>313.0400</td>\n",
       "      <td>447.8800</td>\n",
       "      <td>FNSZ</td>\n",
       "      <td>dev</td>\n",
       "      <td>./dev/02_tcp_le/056/00005625/s002_2010_03_29/0...</td>\n",
       "      <td>250</td>\n",
       "      <td>True</td>\n",
       "      <td>False</td>\n",
       "    </tr>\n",
       "    <tr>\n",
       "      <th>257</th>\n",
       "      <td>945.0</td>\n",
       "      <td>5943.0</td>\n",
       "      <td>s001</td>\n",
       "      <td>t000</td>\n",
       "      <td>ICU</td>\n",
       "      <td>NSICU</td>\n",
       "      <td>LTM</td>\n",
       "      <td>Abnormal</td>\n",
       "      <td>11.0</td>\n",
       "      <td>11.0</td>\n",
       "      <td>./dev/02_tcp_le/059/00005943/s001_2009_06_28/0...</td>\n",
       "      <td>1.0000</td>\n",
       "      <td>93.6318</td>\n",
       "      <td>FNSZ</td>\n",
       "      <td>dev</td>\n",
       "      <td>./dev/02_tcp_le/059/00005943/s001_2009_06_28/0...</td>\n",
       "      <td>250</td>\n",
       "      <td>True</td>\n",
       "      <td>False</td>\n",
       "    </tr>\n",
       "  </tbody>\n",
       "</table>\n",
       "<p>250 rows × 19 columns</p>\n",
       "</div>"
      ],
      "text/plain": [
       "     File No.  Patient Session  File    EEG Type EEG SubType LTM -or- Routine  \\\n",
       "0         5.0      NaN     NaN  t002         NaN         NaN              NaN   \n",
       "1         6.0      NaN     NaN  t003         NaN         NaN              NaN   \n",
       "2         7.0      NaN     NaN  t004         NaN         NaN              NaN   \n",
       "3         8.0      NaN     NaN  t005         NaN         NaN              NaN   \n",
       "4        16.0   1027.0    s004  t000     Unknown     Unknown              LTM   \n",
       "..        ...      ...     ...   ...         ...         ...              ...   \n",
       "253     925.0   4087.0    s001  t000  Outpatient  Outpatient          Routine   \n",
       "254     927.0   4151.0    s001  t001         ICU       NSICU          Routine   \n",
       "255     937.0   5213.0    s001  t000  Outpatient  Outpatient          Routine   \n",
       "256     944.0   5625.0    s002  t001         EMU         EMU          Routine   \n",
       "257     945.0   5943.0    s001  t000         ICU       NSICU              LTM   \n",
       "\n",
       "    Normal/ Abnormal  No. Seizures/ File  No. Seizures/ Session  \\\n",
       "0                NaN                 1.0                    NaN   \n",
       "1                NaN                 1.0                    NaN   \n",
       "2                NaN                 1.0                    NaN   \n",
       "3                NaN                 1.0                    NaN   \n",
       "4           Abnormal                 1.0                    3.0   \n",
       "..               ...                 ...                    ...   \n",
       "253         Abnormal                 1.0                    1.0   \n",
       "254         Abnormal                 3.0                    3.0   \n",
       "255         Abnormal                 1.0                    1.0   \n",
       "256         Abnormal                 2.0                    2.0   \n",
       "257         Abnormal                11.0                   11.0   \n",
       "\n",
       "                                              Filename      Start       Stop  \\\n",
       "0    ./dev/01_tcp_ar/002/00000258/s003_2003_07_22/0...     8.8275   173.3791   \n",
       "1    ./dev/01_tcp_ar/002/00000258/s003_2003_07_22/0...     3.9623   175.5054   \n",
       "2    ./dev/01_tcp_ar/002/00000258/s003_2003_07_22/0...     1.0000   150.5157   \n",
       "3    ./dev/01_tcp_ar/002/00000258/s003_2003_07_22/0...   207.9101   308.0000   \n",
       "4    ./dev/01_tcp_ar/010/00001027/s004_2004_01_30/0...    34.0551   162.3118   \n",
       "..                                                 ...        ...        ...   \n",
       "253  ./dev/02_tcp_le/040/00004087/s001_2007_06_26/0...  1126.7680  1143.0680   \n",
       "254  ./dev/02_tcp_le/041/00004151/s001_2007_09_25/0...    57.2880   162.7440   \n",
       "255  ./dev/02_tcp_le/052/00005213/s001_2007_12_06/0...   341.6960   378.0354   \n",
       "256  ./dev/02_tcp_le/056/00005625/s002_2010_03_29/0...   313.0400   447.8800   \n",
       "257  ./dev/02_tcp_le/059/00005943/s001_2009_06_28/0...     1.0000    93.6318   \n",
       "\n",
       "    Seizure Type dataset                                               file  \\\n",
       "0           TCSZ     dev  ./dev/01_tcp_ar/002/00000258/s003_2003_07_22/0...   \n",
       "1           TCSZ     dev  ./dev/01_tcp_ar/002/00000258/s003_2003_07_22/0...   \n",
       "2           TCSZ     dev  ./dev/01_tcp_ar/002/00000258/s003_2003_07_22/0...   \n",
       "3           FNSZ     dev  ./dev/01_tcp_ar/002/00000258/s003_2003_07_22/0...   \n",
       "4           CPSZ     dev  ./dev/01_tcp_ar/010/00001027/s004_2004_01_30/0...   \n",
       "..           ...     ...                                                ...   \n",
       "253         FNSZ     dev  ./dev/02_tcp_le/040/00004087/s001_2007_06_26/0...   \n",
       "254         FNSZ     dev  ./dev/02_tcp_le/041/00004151/s001_2007_09_25/0...   \n",
       "255         FNSZ     dev  ./dev/02_tcp_le/052/00005213/s001_2007_12_06/0...   \n",
       "256         FNSZ     dev  ./dev/02_tcp_le/056/00005625/s002_2010_03_29/0...   \n",
       "257         FNSZ     dev  ./dev/02_tcp_le/059/00005943/s001_2009_06_28/0...   \n",
       "\n",
       "     freq   ecg    emg  \n",
       "0     400  True  False  \n",
       "1     400  True  False  \n",
       "2     400  True  False  \n",
       "3     400  True  False  \n",
       "4     400  True  False  \n",
       "..    ...   ...    ...  \n",
       "253   250  True  False  \n",
       "254   250  True  False  \n",
       "255   250  True  False  \n",
       "256   250  True  False  \n",
       "257   250  True  False  \n",
       "\n",
       "[250 rows x 19 columns]"
      ]
     },
     "execution_count": 14,
     "metadata": {},
     "output_type": "execute_result"
    }
   ],
   "source": [
    "df[df['Seizure Type'].isin(['FNSZ','GNSZ','CPSZ','TNSZ','TCSZ',])]"
   ]
  },
  {
   "cell_type": "code",
   "execution_count": 16,
   "metadata": {},
   "outputs": [],
   "source": [
    "df.to_csv('../resources/reports/ecg_files_dataset_especific_types.csv',index=False)"
   ]
  },
  {
   "cell_type": "markdown",
   "metadata": {},
   "source": [
    "# TRAIN"
   ]
  },
  {
   "cell_type": "code",
   "execution_count": 3,
   "metadata": {},
   "outputs": [],
   "source": [
    "train = pd.read_csv('../resources/reports/train.csv')\n",
    "train_details = pd.read_csv('../resources/reports/train_details.csv')"
   ]
  },
  {
   "cell_type": "code",
   "execution_count": 4,
   "metadata": {},
   "outputs": [
    {
     "data": {
      "text/plain": [
       "748"
      ]
     },
     "execution_count": 4,
     "metadata": {},
     "output_type": "execute_result"
    }
   ],
   "source": [
    "ecg_train = train_details[train_details['ecg']==True]\n",
    "len(ecg_train)"
   ]
  },
  {
   "cell_type": "code",
   "execution_count": 5,
   "metadata": {},
   "outputs": [],
   "source": [
    "df_train = pd.merge(train,ecg_train,left_on='Filename',right_on='file').iloc[:,1:]\n",
    "\n",
    "df_train = df_train[df_train['Seizure Type'].isin(['FNSZ','GNSZ','CPSZ','TNSZ','TCSZ',])]"
   ]
  },
  {
   "cell_type": "code",
   "execution_count": 6,
   "metadata": {},
   "outputs": [
    {
     "data": {
      "text/plain": [
       "727"
      ]
     },
     "execution_count": 6,
     "metadata": {},
     "output_type": "execute_result"
    }
   ],
   "source": [
    "len(df_train)"
   ]
  },
  {
   "cell_type": "code",
   "execution_count": 7,
   "metadata": {},
   "outputs": [
    {
     "data": {
      "text/plain": [
       "freq\n",
       "250     220\n",
       "256     478\n",
       "400      28\n",
       "512      10\n",
       "1000     12\n",
       "Name: freq, dtype: int64"
      ]
     },
     "execution_count": 7,
     "metadata": {},
     "output_type": "execute_result"
    }
   ],
   "source": [
    "ecg_train.groupby('freq')['freq'].count()"
   ]
  },
  {
   "cell_type": "code",
   "execution_count": 8,
   "metadata": {},
   "outputs": [],
   "source": [
    "df_train.to_csv('../resources/reports/ecg_files_train.csv',index=False)"
   ]
  },
  {
   "cell_type": "markdown",
   "metadata": {},
   "source": [
    "# Eval"
   ]
  },
  {
   "cell_type": "code",
   "execution_count": 9,
   "metadata": {},
   "outputs": [],
   "source": [
    "eval = pd.read_csv('../resources/reports/eval.csv')\n",
    "eval_details = pd.read_csv('../resources/reports/eval_details.csv')"
   ]
  },
  {
   "cell_type": "code",
   "execution_count": 10,
   "metadata": {},
   "outputs": [
    {
     "data": {
      "text/plain": [
       "235"
      ]
     },
     "execution_count": 10,
     "metadata": {},
     "output_type": "execute_result"
    }
   ],
   "source": [
    "ecg_eval = eval_details[eval_details['ecg']==True]\n",
    "len(ecg_eval)"
   ]
  },
  {
   "cell_type": "code",
   "execution_count": 11,
   "metadata": {},
   "outputs": [],
   "source": [
    "df_eval = pd.merge(eval,ecg_eval,left_on='Filename',right_on='file').iloc[:,1:]\n",
    "\n",
    "df_eval = df_eval[df_eval['Seizure Type'].isin(['FNSZ','GNSZ','CPSZ','TNSZ','TCSZ',])]"
   ]
  },
  {
   "cell_type": "code",
   "execution_count": 13,
   "metadata": {},
   "outputs": [
    {
     "data": {
      "text/plain": [
       "234"
      ]
     },
     "execution_count": 13,
     "metadata": {},
     "output_type": "execute_result"
    }
   ],
   "source": [
    "len(df_eval)"
   ]
  },
  {
   "cell_type": "code",
   "execution_count": 14,
   "metadata": {},
   "outputs": [
    {
     "data": {
      "text/plain": [
       "freq\n",
       "250      13\n",
       "256     213\n",
       "1000      9\n",
       "Name: freq, dtype: int64"
      ]
     },
     "execution_count": 14,
     "metadata": {},
     "output_type": "execute_result"
    }
   ],
   "source": [
    "ecg_eval.groupby('freq')['freq'].count()"
   ]
  },
  {
   "cell_type": "code",
   "execution_count": 15,
   "metadata": {},
   "outputs": [],
   "source": [
    "df_eval.to_csv('../resources/reports/ecg_files_eval.csv',index=False)"
   ]
  },
  {
   "cell_type": "code",
   "execution_count": null,
   "metadata": {},
   "outputs": [],
   "source": []
  }
 ],
 "metadata": {
  "kernelspec": {
   "display_name": "Python 3.8.10 64-bit",
   "language": "python",
   "name": "python3"
  },
  "language_info": {
   "codemirror_mode": {
    "name": "ipython",
    "version": 3
   },
   "file_extension": ".py",
   "mimetype": "text/x-python",
   "name": "python",
   "nbconvert_exporter": "python",
   "pygments_lexer": "ipython3",
   "version": "3.10.12"
  },
  "orig_nbformat": 4,
  "vscode": {
   "interpreter": {
    "hash": "916dbcbb3f70747c44a77c7bcd40155683ae19c65e1c03b4aa3499c5328201f1"
   }
  }
 },
 "nbformat": 4,
 "nbformat_minor": 2
}
