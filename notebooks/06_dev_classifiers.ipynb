{
 "cells": [
  {
   "cell_type": "code",
   "execution_count": 7,
   "metadata": {},
   "outputs": [],
   "source": [
    "import pandas as pd\n",
    "import numpy as np\n",
    "\n",
    "df = pd.read_parquet('../features/dev_features_dataset.parquet')"
   ]
  },
  {
   "cell_type": "code",
   "execution_count": 8,
   "metadata": {},
   "outputs": [],
   "source": [
    "from sklearn.svm import SVC\n",
    "from sklearn.model_selection import (cross_val_predict, KFold, cross_val_score)\n",
    "from sklearn.metrics import (\n",
    "    confusion_matrix, auc, roc_curve, plot_confusion_matrix, classification_report, accuracy_score)\n",
    "import seaborn as sns\n",
    "from sklearn.model_selection import GridSearchCV\n",
    "\n",
    "\n",
    "def get_estimators(model, params, x, y):\n",
    "    clf = GridSearchCV(estimator=model, param_grid=params, n_jobs=-1, cv=5)\n",
    "    clf.fit(x, y)\n",
    "    return clf\n",
    "\n",
    "\n",
    "def plot_confusion_matrix(m):\n",
    "    g1 = sns.heatmap(m, annot=True, cmap=\"YlGnBu\")\n",
    "    g1.set_xlabel('Predicted labels')\n",
    "    g1.set_ylabel('True labels')\n",
    "    g1.set_title('Confusion Matrix')\n",
    "\n",
    "\n",
    "def norm_confusion_matrix(y, y_pred):\n",
    "    m = confusion_matrix(y, y_pred)\n",
    "    return m.astype('float')/m.sum(axis=1)[:, np.newaxis]\n",
    "\n",
    "\n",
    "def svm(params: dict, x: np.ndarray, y: np.ndarray):\n",
    "    model = SVC()\n",
    "    clf = GridSearchCV(estimator=model, param_grid=params, n_jobs=-1)\n",
    "    clf.fit(x, y)\n",
    "    return clf"
   ]
  },
  {
   "cell_type": "code",
   "execution_count": 5,
   "metadata": {},
   "outputs": [],
   "source": [
    "from sklearn.model_selection import (train_test_split, KFold)\n",
    "\n",
    "x = df.iloc[:, :-1]\n",
    "y = df.loc[:, 'label']\n",
    "\n",
    "X_train, X_test, y_train, y_test = train_test_split(\n",
    "    x, y, test_size=0.3, random_state=0)"
   ]
  },
  {
   "cell_type": "code",
   "execution_count": 10,
   "metadata": {},
   "outputs": [],
   "source": [
    "from sklearn.neighbors import KNeighborsClassifier as KNN\n",
    "from sklearn.svm import SVC\n",
    "from sklearn.tree import DecisionTreeClassifier as DTC\n",
    "\n",
    "param_svm = [{\n",
    "    'C': [1, 10, 100, 1000],\n",
    "    'gamma': [0.01, 0.001, 0.0001, 0.00001],\n",
    "    'kernel': ['rbf']\n",
    "}]\n",
    "\n",
    "\n",
    "param_knn = [{\n",
    "    'n_neighbors': [3, 5, 7, 9, 11, 15],\n",
    "    'algorithm':['ball_tree', 'kd_tree', 'brute']\n",
    "}]\n",
    "\n",
    "\n",
    "param_tree = [{\n",
    "    'criterion': ['gini', 'entropy'],\n",
    "    'splitter': ['best', 'random'],\n",
    "    'max_depth':np.arange(1, 7)\n",
    "}]\n",
    "\n",
    "result_svm = get_estimators(model=SVC(), params=param_svm, x=X_train, y=y_train)\n",
    "result_knn = get_estimators(model=KNN(), params=param_knn, x=X_train, y=y_train)\n",
    "# result_tree = get_estimators(model=DTC(), params=param_tree, x=X_train, y=y_train)"
   ]
  },
  {
   "cell_type": "code",
   "execution_count": 11,
   "metadata": {},
   "outputs": [
    {
     "name": "stdout",
     "output_type": "stream",
     "text": [
      "{'KNN': {'algorithm': 'ball_tree', 'n_neighbors': 3},\n",
      " 'SVM': {'C': 1, 'gamma': 0.01, 'kernel': 'rbf'}}\n"
     ]
    }
   ],
   "source": [
    "from pprint import pprint\n",
    "\n",
    "best_params = {\n",
    "    'SVM': result_svm.cv_results_['params'][0],\n",
    "    'KNN': result_knn.cv_results_['params'][0]\n",
    "}\n",
    "\n",
    "pprint(best_params)"
   ]
  },
  {
   "cell_type": "code",
   "execution_count": 12,
   "metadata": {},
   "outputs": [
    {
     "name": "stdout",
     "output_type": "stream",
     "text": [
      "              precision    recall  f1-score   support\n",
      "\n",
      "        ABSZ       1.00      1.00      1.00        33\n",
      "        CPSZ       1.00      1.00      1.00      1676\n",
      "        FNSZ       1.00      1.00      1.00      9521\n",
      "        GNSZ       1.00      1.00      1.00      5851\n",
      "        MYSZ       1.00      1.00      1.00         6\n",
      "        SPSZ       1.00      1.00      1.00        36\n",
      "        TCSZ       1.00      1.00      1.00      2421\n",
      "        TNSZ       1.00      1.00      1.00       143\n",
      "\n",
      "    accuracy                           1.00     19687\n",
      "   macro avg       1.00      1.00      1.00     19687\n",
      "weighted avg       1.00      1.00      1.00     19687\n",
      "\n",
      "              precision    recall  f1-score   support\n",
      "\n",
      "        ABSZ       1.00      1.00      1.00        33\n",
      "        CPSZ       1.00      1.00      1.00      1676\n",
      "        FNSZ       1.00      1.00      1.00      9521\n",
      "        GNSZ       1.00      1.00      1.00      5851\n",
      "        MYSZ       1.00      1.00      1.00         6\n",
      "        SPSZ       1.00      1.00      1.00        36\n",
      "        TCSZ       1.00      1.00      1.00      2421\n",
      "        TNSZ       1.00      1.00      1.00       143\n",
      "\n",
      "    accuracy                           1.00     19687\n",
      "   macro avg       1.00      1.00      1.00     19687\n",
      "weighted avg       1.00      1.00      1.00     19687\n",
      "\n"
     ]
    }
   ],
   "source": [
    "from pprint import pprint\n",
    "\n",
    "print(classification_report(y_test, result_knn.best_estimator_.predict(X_test)))\n",
    "\n",
    "print(classification_report(y_test, result_svm.best_estimator_.predict(X_test)))\n",
    "\n"
   ]
  },
  {
   "cell_type": "code",
   "execution_count": null,
   "metadata": {},
   "outputs": [],
   "source": []
  }
 ],
 "metadata": {
  "kernelspec": {
   "display_name": "Python 3.8.10 64-bit",
   "language": "python",
   "name": "python3"
  },
  "language_info": {
   "codemirror_mode": {
    "name": "ipython",
    "version": 3
   },
   "file_extension": ".py",
   "mimetype": "text/x-python",
   "name": "python",
   "nbconvert_exporter": "python",
   "pygments_lexer": "ipython3",
   "version": "3.8.10"
  },
  "orig_nbformat": 4,
  "vscode": {
   "interpreter": {
    "hash": "916dbcbb3f70747c44a77c7bcd40155683ae19c65e1c03b4aa3499c5328201f1"
   }
  }
 },
 "nbformat": 4,
 "nbformat_minor": 2
}
