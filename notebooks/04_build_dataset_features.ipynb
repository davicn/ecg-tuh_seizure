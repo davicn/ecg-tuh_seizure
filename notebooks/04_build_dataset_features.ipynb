{
 "cells": [
  {
   "cell_type": "code",
   "execution_count": 5,
   "metadata": {},
   "outputs": [],
   "source": [
    "import os\n",
    "from os.path import join, dirname\n",
    "from dotenv import load_dotenv\n",
    "\n",
    "dotenv_path = join(dirname('__file__'), '.env')\n",
    "\n",
    "load_dotenv(dotenv_path)\n",
    "\n",
    "DATALAKE_PATH = os.environ.get(\"DATALAKE_PATH\")\n",
    "ROOT_PATH = os.environ.get(\"ROOT_PATH\")\n",
    "SOURCE_PATH = os.environ.get(\"SOURCE_PATH\")\n",
    "\n",
    "SUB_PATH = 'tuh_seizures/processed/features/dev'"
   ]
  },
  {
   "cell_type": "code",
   "execution_count": 40,
   "metadata": {},
   "outputs": [],
   "source": [
    "import pandas as pd \n",
    "from scipy.io import loadmat\n",
    "import numpy as np\n",
    "from joblib import Parallel, delayed"
   ]
  },
  {
   "cell_type": "code",
   "execution_count": 11,
   "metadata": {},
   "outputs": [],
   "source": [
    "files = pd.read_csv(f'{DATALAKE_PATH}/{SUB_PATH}/files.txt', header=None)[0].to_list()"
   ]
  },
  {
   "cell_type": "code",
   "execution_count": 39,
   "metadata": {},
   "outputs": [],
   "source": [
    "def pipe(f:str) -> any:\n",
    "    cols = ['kur_log','skew_log','var_log']\n",
    "\n",
    "    d = loadmat(f'{DATALAKE_PATH}/{SUB_PATH}/{f}')\n",
    "    df = pd.DataFrame(data=[d['kur_log'][0],d['skew_log'][0],d['var_log'][0]], index=cols).T\n",
    "    df['label'] = np.repeat(d['label'][0],len(df))\n",
    "\n",
    "    return df\n",
    "\n"
   ]
  },
  {
   "cell_type": "code",
   "execution_count": 41,
   "metadata": {},
   "outputs": [],
   "source": [
    "results = Parallel(n_jobs=-1)(delayed(pipe)(f) for f in files)"
   ]
  },
  {
   "cell_type": "code",
   "execution_count": 44,
   "metadata": {},
   "outputs": [],
   "source": [
    "pd.concat(results).to_parquet('../features/dev_features_dataset.parquet',index=False)"
   ]
  }
 ],
 "metadata": {
  "kernelspec": {
   "display_name": "Python 3.8.10 64-bit",
   "language": "python",
   "name": "python3"
  },
  "language_info": {
   "codemirror_mode": {
    "name": "ipython",
    "version": 3
   },
   "file_extension": ".py",
   "mimetype": "text/x-python",
   "name": "python",
   "nbconvert_exporter": "python",
   "pygments_lexer": "ipython3",
   "version": "3.8.10"
  },
  "orig_nbformat": 4,
  "vscode": {
   "interpreter": {
    "hash": "916dbcbb3f70747c44a77c7bcd40155683ae19c65e1c03b4aa3499c5328201f1"
   }
  }
 },
 "nbformat": 4,
 "nbformat_minor": 2
}
