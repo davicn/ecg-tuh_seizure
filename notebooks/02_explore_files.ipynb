{
 "cells": [
  {
   "cell_type": "code",
   "execution_count": 2,
   "metadata": {},
   "outputs": [],
   "source": [
    "import os\n",
    "from os.path import join, dirname\n",
    "from dotenv import load_dotenv\n",
    "\n",
    "dotenv_path = join(dirname('__file__'), '.env')\n",
    "\n",
    "load_dotenv(dotenv_path)\n",
    "\n",
    "DATALAKE_PATH = os.environ.get(\"DATALAKE_PATH\")\n",
    "ROOT_PATH = os.environ.get(\"ROOT_PATH\")\n",
    "SOURCE_PATH = os.environ.get(\"SOURCE_PATH\")"
   ]
  },
  {
   "cell_type": "code",
   "execution_count": 3,
   "metadata": {},
   "outputs": [],
   "source": [
    "import pandas as pd\n",
    "import numpy as np\n",
    "from mne.io import read_raw_edf"
   ]
  },
  {
   "cell_type": "code",
   "execution_count": 4,
   "metadata": {},
   "outputs": [
    {
     "ename": "ImportError",
     "evalue": "Missing optional dependency 'openpyxl'.  Use pip or conda to install openpyxl.",
     "output_type": "error",
     "traceback": [
      "\u001b[0;31m---------------------------------------------------------------------------\u001b[0m",
      "\u001b[0;31mModuleNotFoundError\u001b[0m                       Traceback (most recent call last)",
      "File \u001b[0;32m/mnt/c/Users/davin/Documents/doutorado/ecg-tuh_seizure/.venv/lib/python3.10/site-packages/pandas/compat/_optional.py:132\u001b[0m, in \u001b[0;36mimport_optional_dependency\u001b[0;34m(name, extra, errors, min_version)\u001b[0m\n\u001b[1;32m    131\u001b[0m \u001b[39mtry\u001b[39;00m:\n\u001b[0;32m--> 132\u001b[0m     module \u001b[39m=\u001b[39m importlib\u001b[39m.\u001b[39;49mimport_module(name)\n\u001b[1;32m    133\u001b[0m \u001b[39mexcept\u001b[39;00m \u001b[39mImportError\u001b[39;00m:\n",
      "File \u001b[0;32m/usr/lib/python3.10/importlib/__init__.py:126\u001b[0m, in \u001b[0;36mimport_module\u001b[0;34m(name, package)\u001b[0m\n\u001b[1;32m    125\u001b[0m         level \u001b[39m+\u001b[39m\u001b[39m=\u001b[39m \u001b[39m1\u001b[39m\n\u001b[0;32m--> 126\u001b[0m \u001b[39mreturn\u001b[39;00m _bootstrap\u001b[39m.\u001b[39;49m_gcd_import(name[level:], package, level)\n",
      "File \u001b[0;32m<frozen importlib._bootstrap>:1050\u001b[0m, in \u001b[0;36m_gcd_import\u001b[0;34m(name, package, level)\u001b[0m\n",
      "File \u001b[0;32m<frozen importlib._bootstrap>:1027\u001b[0m, in \u001b[0;36m_find_and_load\u001b[0;34m(name, import_)\u001b[0m\n",
      "File \u001b[0;32m<frozen importlib._bootstrap>:1004\u001b[0m, in \u001b[0;36m_find_and_load_unlocked\u001b[0;34m(name, import_)\u001b[0m\n",
      "\u001b[0;31mModuleNotFoundError\u001b[0m: No module named 'openpyxl'",
      "\nDuring handling of the above exception, another exception occurred:\n",
      "\u001b[0;31mImportError\u001b[0m                               Traceback (most recent call last)",
      "\u001b[1;32m/mnt/c/Users/davin/Documents/doutorado/ecg-tuh_seizure/notebooks/02_explore_files.ipynb Cell 3\u001b[0m line \u001b[0;36m1\n\u001b[0;32m----> <a href='vscode-notebook-cell://wsl%2Bubuntu-22.04/mnt/c/Users/davin/Documents/doutorado/ecg-tuh_seizure/notebooks/02_explore_files.ipynb#W2sdnNjb2RlLXJlbW90ZQ%3D%3D?line=0'>1</a>\u001b[0m file \u001b[39m=\u001b[39m pd\u001b[39m.\u001b[39;49mExcelFile(\u001b[39m'\u001b[39;49m\u001b[39m../docs/seizures_v36s.xlsx\u001b[39;49m\u001b[39m'\u001b[39;49m)\n\u001b[1;32m      <a href='vscode-notebook-cell://wsl%2Bubuntu-22.04/mnt/c/Users/davin/Documents/doutorado/ecg-tuh_seizure/notebooks/02_explore_files.ipynb#W2sdnNjb2RlLXJlbW90ZQ%3D%3D?line=1'>2</a>\u001b[0m file\u001b[39m.\u001b[39msheet_names\n",
      "File \u001b[0;32m/mnt/c/Users/davin/Documents/doutorado/ecg-tuh_seizure/.venv/lib/python3.10/site-packages/pandas/io/excel/_base.py:1580\u001b[0m, in \u001b[0;36mExcelFile.__init__\u001b[0;34m(self, path_or_buffer, engine, storage_options, engine_kwargs)\u001b[0m\n\u001b[1;32m   1577\u001b[0m \u001b[39mself\u001b[39m\u001b[39m.\u001b[39mengine \u001b[39m=\u001b[39m engine\n\u001b[1;32m   1578\u001b[0m \u001b[39mself\u001b[39m\u001b[39m.\u001b[39mstorage_options \u001b[39m=\u001b[39m storage_options\n\u001b[0;32m-> 1580\u001b[0m \u001b[39mself\u001b[39m\u001b[39m.\u001b[39m_reader \u001b[39m=\u001b[39m \u001b[39mself\u001b[39;49m\u001b[39m.\u001b[39;49m_engines[engine](\n\u001b[1;32m   1581\u001b[0m     \u001b[39mself\u001b[39;49m\u001b[39m.\u001b[39;49m_io,\n\u001b[1;32m   1582\u001b[0m     storage_options\u001b[39m=\u001b[39;49mstorage_options,\n\u001b[1;32m   1583\u001b[0m     engine_kwargs\u001b[39m=\u001b[39;49mengine_kwargs,\n\u001b[1;32m   1584\u001b[0m )\n",
      "File \u001b[0;32m/mnt/c/Users/davin/Documents/doutorado/ecg-tuh_seizure/.venv/lib/python3.10/site-packages/pandas/io/excel/_openpyxl.py:552\u001b[0m, in \u001b[0;36mOpenpyxlReader.__init__\u001b[0;34m(self, filepath_or_buffer, storage_options, engine_kwargs)\u001b[0m\n\u001b[1;32m    534\u001b[0m \u001b[39m@doc\u001b[39m(storage_options\u001b[39m=\u001b[39m_shared_docs[\u001b[39m\"\u001b[39m\u001b[39mstorage_options\u001b[39m\u001b[39m\"\u001b[39m])\n\u001b[1;32m    535\u001b[0m \u001b[39mdef\u001b[39;00m \u001b[39m__init__\u001b[39m(\n\u001b[1;32m    536\u001b[0m     \u001b[39mself\u001b[39m,\n\u001b[0;32m   (...)\u001b[0m\n\u001b[1;32m    539\u001b[0m     engine_kwargs: \u001b[39mdict\u001b[39m \u001b[39m|\u001b[39m \u001b[39mNone\u001b[39;00m \u001b[39m=\u001b[39m \u001b[39mNone\u001b[39;00m,\n\u001b[1;32m    540\u001b[0m ) \u001b[39m-\u001b[39m\u001b[39m>\u001b[39m \u001b[39mNone\u001b[39;00m:\n\u001b[1;32m    541\u001b[0m \u001b[39m    \u001b[39m\u001b[39m\"\"\"\u001b[39;00m\n\u001b[1;32m    542\u001b[0m \u001b[39m    Reader using openpyxl engine.\u001b[39;00m\n\u001b[1;32m    543\u001b[0m \n\u001b[0;32m   (...)\u001b[0m\n\u001b[1;32m    550\u001b[0m \u001b[39m        Arbitrary keyword arguments passed to excel engine.\u001b[39;00m\n\u001b[1;32m    551\u001b[0m \u001b[39m    \"\"\"\u001b[39;00m\n\u001b[0;32m--> 552\u001b[0m     import_optional_dependency(\u001b[39m\"\u001b[39;49m\u001b[39mopenpyxl\u001b[39;49m\u001b[39m\"\u001b[39;49m)\n\u001b[1;32m    553\u001b[0m     \u001b[39msuper\u001b[39m()\u001b[39m.\u001b[39m\u001b[39m__init__\u001b[39m(\n\u001b[1;32m    554\u001b[0m         filepath_or_buffer,\n\u001b[1;32m    555\u001b[0m         storage_options\u001b[39m=\u001b[39mstorage_options,\n\u001b[1;32m    556\u001b[0m         engine_kwargs\u001b[39m=\u001b[39mengine_kwargs,\n\u001b[1;32m    557\u001b[0m     )\n",
      "File \u001b[0;32m/mnt/c/Users/davin/Documents/doutorado/ecg-tuh_seizure/.venv/lib/python3.10/site-packages/pandas/compat/_optional.py:135\u001b[0m, in \u001b[0;36mimport_optional_dependency\u001b[0;34m(name, extra, errors, min_version)\u001b[0m\n\u001b[1;32m    133\u001b[0m \u001b[39mexcept\u001b[39;00m \u001b[39mImportError\u001b[39;00m:\n\u001b[1;32m    134\u001b[0m     \u001b[39mif\u001b[39;00m errors \u001b[39m==\u001b[39m \u001b[39m\"\u001b[39m\u001b[39mraise\u001b[39m\u001b[39m\"\u001b[39m:\n\u001b[0;32m--> 135\u001b[0m         \u001b[39mraise\u001b[39;00m \u001b[39mImportError\u001b[39;00m(msg)\n\u001b[1;32m    136\u001b[0m     \u001b[39mreturn\u001b[39;00m \u001b[39mNone\u001b[39;00m\n\u001b[1;32m    138\u001b[0m \u001b[39m# Handle submodules: if we have submodule, grab parent module from sys.modules\u001b[39;00m\n",
      "\u001b[0;31mImportError\u001b[0m: Missing optional dependency 'openpyxl'.  Use pip or conda to install openpyxl."
     ]
    }
   ],
   "source": [
    "file = pd.ExcelFile('../docs/seizures_v36s.xlsx')\n",
    "file.sheet_names"
   ]
  },
  {
   "cell_type": "code",
   "execution_count": 5,
   "metadata": {},
   "outputs": [],
   "source": [
    "def table_info(sheet:str):\n",
    "    df = file.parse(sheet)\n",
    "    df = df.iloc[:,:15].drop([0]).reset_index(drop=True)\n",
    "    df = df[df['No. Seizures/ File']>0].reset_index(drop=True)\n",
    "    df['dataset'] = np.repeat(sheet, len(df))\n",
    "    return df\n"
   ]
  },
  {
   "cell_type": "code",
   "execution_count": 6,
   "metadata": {},
   "outputs": [],
   "source": [
    "dataset_train = table_info('train')\n",
    "dataset_dev = table_info('dev')\n",
    "dataset_eval = table_info('eval')\n"
   ]
  },
  {
   "cell_type": "code",
   "execution_count": 28,
   "metadata": {},
   "outputs": [],
   "source": [
    "def get_data_info_edf(file):\n",
    "    file = file.replace('tse','edf')[1:]\n",
    "    path = f'/media/davi/6A81-05CF/tuh_eeg_seizure/edf/{file}'\n",
    "\n",
    "    return read_raw_edf(path, verbose=False)\n",
    "\n",
    "\n",
    "def get_others_signals(raw, chs, name, label, dataset):\n",
    "    df = raw.to_data_frame()\n",
    "    df = df[chs]\n",
    "    df.to_parquet(f\"{DATALAKE_PATH}/tuh_seizures/raw/{label}/{dataset}/{name}\")\n",
    "    \n",
    "def check_others_signals(chs, label):\n",
    "    return [ch for ch in chs if label in ch]\n",
    "    \n",
    "\n"
   ]
  },
  {
   "cell_type": "code",
   "execution_count": 29,
   "metadata": {},
   "outputs": [],
   "source": [
    "def pipeline_datasets(dataset, dataset_tag):\n",
    "    df = dataset\n",
    "    files = df['Filename'].unique()\n",
    "\n",
    "    freqs = []\n",
    "    ecg_ch = []\n",
    "    emg_ch = []\n",
    "\n",
    "    for file in files:\n",
    "        raw = get_data_info_edf(file)\n",
    "        freqs.append(int(raw.info['sfreq']))\n",
    "\n",
    "        chs = raw.info['ch_names']\n",
    "        ecg = check_others_signals(chs=chs, label='EKG')\n",
    "        emg = check_others_signals(chs=chs, label='EMG')\n",
    "\n",
    "        name = file.split('/')[-1].replace('tse','parquet')\n",
    "\n",
    "        if len(ecg)>0:\n",
    "            ecg_ch.append(True)\n",
    "            get_others_signals(raw, ecg, name, 'ecg', dataset_tag)\n",
    "        else:\n",
    "            ecg_ch.append(False)\n",
    "\n",
    "\n",
    "        if len(emg)>0:\n",
    "            emg_ch.append(True)\n",
    "            get_others_signals(raw, emg, name, 'emg', dataset_tag)\n",
    "        else:\n",
    "            emg_ch.append(False)\n",
    "    \n",
    "    return pd.DataFrame(data=[files, freqs, ecg_ch, emg_ch], index=['file','freq','ecg','emg']).T\n"
   ]
  },
  {
   "cell_type": "code",
   "execution_count": 30,
   "metadata": {},
   "outputs": [
    {
     "name": "stderr",
     "output_type": "stream",
     "text": [
      "/tmp/ipykernel_33132/666906307.py:5: RuntimeWarning: Number of records from the header does not match the file size (perhaps the recording was not stopped before exiting). Inferring from the file size.\n",
      "  return read_raw_edf(path, verbose=False)\n"
     ]
    }
   ],
   "source": [
    "dataset_eval_details = pipeline_datasets(dataset_eval, 'eval')\n",
    "dataset_dev_details = pipeline_datasets(dataset_dev, 'dev')\n",
    "dataset_train_details = pipeline_datasets(dataset_train, 'train')"
   ]
  },
  {
   "cell_type": "code",
   "execution_count": 34,
   "metadata": {},
   "outputs": [],
   "source": [
    "dataset_train_details.to_csv('../features/train_details.csv', index=False)\n",
    "dataset_dev_details.to_csv('../features/dev_details.csv', index=False)\n",
    "dataset_eval_details.to_csv('../features/eval_details.csv', index=False)\n"
   ]
  },
  {
   "cell_type": "code",
   "execution_count": 36,
   "metadata": {},
   "outputs": [],
   "source": [
    "dataset_train.to_csv('../features/train.csv', index=False)\n",
    "dataset_dev.to_csv('../features/dev.csv', index=False)\n",
    "dataset_eval.to_csv('../features/eval.csv', index=False)"
   ]
  }
 ],
 "metadata": {
  "interpreter": {
   "hash": "f35d9d24b4eaeae2f257eddf812b789a6c53c174ad69f43e3e28ddf321351ed6"
  },
  "kernelspec": {
   "display_name": "Python 3.8.13 ('ecg_tuh_seizure')",
   "language": "python",
   "name": "python3"
  },
  "language_info": {
   "codemirror_mode": {
    "name": "ipython",
    "version": 3
   },
   "file_extension": ".py",
   "mimetype": "text/x-python",
   "name": "python",
   "nbconvert_exporter": "python",
   "pygments_lexer": "ipython3",
   "version": "3.10.12"
  },
  "orig_nbformat": 4
 },
 "nbformat": 4,
 "nbformat_minor": 2
}
