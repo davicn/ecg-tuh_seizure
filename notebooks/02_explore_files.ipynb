{
 "cells": [
  {
   "cell_type": "code",
   "execution_count": 1,
   "metadata": {},
   "outputs": [],
   "source": [
    "import os\n",
    "from os.path import join, dirname\n",
    "from dotenv import load_dotenv\n",
    "\n",
    "dotenv_path = join(dirname('__file__'), '.env')\n",
    "\n",
    "load_dotenv(dotenv_path)\n",
    "\n",
    "DATALAKE_PATH = os.environ.get(\"DATALAKE_PATH\")\n",
    "ROOT_PATH = os.environ.get(\"ROOT_PATH\")\n",
    "SOURCE_PATH = os.environ.get(\"SOURCE_PATH\")"
   ]
  },
  {
   "cell_type": "code",
   "execution_count": 2,
   "metadata": {},
   "outputs": [],
   "source": [
    "import pandas as pd\n",
    "import numpy as np\n",
    "from mne.io import read_raw_edf"
   ]
  },
  {
   "cell_type": "code",
   "execution_count": 3,
   "metadata": {},
   "outputs": [
    {
     "data": {
      "text/plain": [
       "['Legends', 'eval', 'dev', 'train', 'Calibration']"
      ]
     },
     "execution_count": 3,
     "metadata": {},
     "output_type": "execute_result"
    }
   ],
   "source": [
    "file = pd.ExcelFile('../docs/seizures_v36s.xlsx')\n",
    "file.sheet_names"
   ]
  },
  {
   "cell_type": "code",
   "execution_count": 5,
   "metadata": {},
   "outputs": [],
   "source": [
    "def table_info(sheet:str):\n",
    "    df = file.parse(sheet)\n",
    "    df = df.iloc[:,:15].drop([0]).reset_index(drop=True)\n",
    "    df = df[df['No. Seizures/ File']>0].reset_index(drop=True)\n",
    "    df['dataset'] = np.repeat(sheet, len(df))\n",
    "    return df\n"
   ]
  },
  {
   "cell_type": "code",
   "execution_count": 6,
   "metadata": {},
   "outputs": [],
   "source": [
    "dataset_train = table_info('train')\n",
    "dataset_dev = table_info('dev')\n",
    "dataset_eval = table_info('eval')\n"
   ]
  },
  {
   "cell_type": "code",
   "execution_count": 28,
   "metadata": {},
   "outputs": [],
   "source": [
    "def get_data_info_edf(file):\n",
    "    file = file.replace('tse','edf')[1:]\n",
    "    path = f'/media/davi/6A81-05CF/tuh_eeg_seizure/edf/{file}'\n",
    "\n",
    "    return read_raw_edf(path, verbose=False)\n",
    "\n",
    "\n",
    "def get_others_signals(raw, chs, name, label, dataset):\n",
    "    df = raw.to_data_frame()\n",
    "    df = df[chs]\n",
    "    df.to_parquet(f\"{DATALAKE_PATH}/tuh_seizures/raw/{label}/{dataset}/{name}\")\n",
    "    \n",
    "def check_others_signals(chs, label):\n",
    "    return [ch for ch in chs if label in ch]\n",
    "    \n",
    "\n"
   ]
  },
  {
   "cell_type": "code",
   "execution_count": 29,
   "metadata": {},
   "outputs": [],
   "source": [
    "def pipeline_datasets(dataset, dataset_tag):\n",
    "    df = dataset\n",
    "    files = df['Filename'].unique()\n",
    "\n",
    "    freqs = []\n",
    "    ecg_ch = []\n",
    "    emg_ch = []\n",
    "\n",
    "    for file in files:\n",
    "        raw = get_data_info_edf(file)\n",
    "        freqs.append(int(raw.info['sfreq']))\n",
    "\n",
    "        chs = raw.info['ch_names']\n",
    "        ecg = check_others_signals(chs=chs, label='EKG')\n",
    "        emg = check_others_signals(chs=chs, label='EMG')\n",
    "\n",
    "        name = file.split('/')[-1].replace('tse','parquet')\n",
    "\n",
    "        if len(ecg)>0:\n",
    "            ecg_ch.append(True)\n",
    "            get_others_signals(raw, ecg, name, 'ecg', dataset_tag)\n",
    "        else:\n",
    "            ecg_ch.append(False)\n",
    "\n",
    "\n",
    "        if len(emg)>0:\n",
    "            emg_ch.append(True)\n",
    "            get_others_signals(raw, emg, name, 'emg', dataset_tag)\n",
    "        else:\n",
    "            emg_ch.append(False)\n",
    "    \n",
    "    return pd.DataFrame(data=[files, freqs, ecg_ch, emg_ch], index=['file','freq','ecg','emg']).T\n"
   ]
  },
  {
   "cell_type": "code",
   "execution_count": 30,
   "metadata": {},
   "outputs": [
    {
     "name": "stderr",
     "output_type": "stream",
     "text": [
      "/tmp/ipykernel_33132/666906307.py:5: RuntimeWarning: Number of records from the header does not match the file size (perhaps the recording was not stopped before exiting). Inferring from the file size.\n",
      "  return read_raw_edf(path, verbose=False)\n"
     ]
    }
   ],
   "source": [
    "dataset_eval_details = pipeline_datasets(dataset_eval, 'eval')\n",
    "dataset_dev_details = pipeline_datasets(dataset_dev, 'dev')\n",
    "dataset_train_details = pipeline_datasets(dataset_train, 'train')"
   ]
  },
  {
   "cell_type": "code",
   "execution_count": 34,
   "metadata": {},
   "outputs": [],
   "source": [
    "dataset_train_details.to_csv('../features/train_details.csv', index=False)\n",
    "dataset_dev_details.to_csv('../features/dev_details.csv', index=False)\n",
    "dataset_eval_details.to_csv('../features/eval_details.csv', index=False)\n"
   ]
  },
  {
   "cell_type": "code",
   "execution_count": 36,
   "metadata": {},
   "outputs": [],
   "source": [
    "dataset_train.to_csv('../features/train.csv', index=False)\n",
    "dataset_dev.to_csv('../features/dev.csv', index=False)\n",
    "dataset_eval.to_csv('../features/eval.csv', index=False)"
   ]
  }
 ],
 "metadata": {
  "interpreter": {
   "hash": "f35d9d24b4eaeae2f257eddf812b789a6c53c174ad69f43e3e28ddf321351ed6"
  },
  "kernelspec": {
   "display_name": "Python 3.8.13 ('ecg_tuh_seizure')",
   "language": "python",
   "name": "python3"
  },
  "language_info": {
   "codemirror_mode": {
    "name": "ipython",
    "version": 3
   },
   "file_extension": ".py",
   "mimetype": "text/x-python",
   "name": "python",
   "nbconvert_exporter": "python",
   "pygments_lexer": "ipython3",
   "version": "3.10.12"
  },
  "orig_nbformat": 4
 },
 "nbformat": 4,
 "nbformat_minor": 2
}
