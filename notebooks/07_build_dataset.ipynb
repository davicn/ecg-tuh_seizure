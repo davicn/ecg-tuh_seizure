{
 "cells": [
  {
   "cell_type": "markdown",
   "metadata": {},
   "source": [
    "# Criando datasets"
   ]
  },
  {
   "cell_type": "code",
   "execution_count": 1,
   "metadata": {},
   "outputs": [],
   "source": [
    "import pandas as pd\n",
    "import numpy as np\n",
    "import os\n",
    "from os.path import join, dirname\n",
    "from scipy.io import loadmat\n",
    "from dotenv import load_dotenv\n",
    "import glob"
   ]
  },
  {
   "cell_type": "code",
   "execution_count": 2,
   "metadata": {},
   "outputs": [],
   "source": [
    "\n",
    "dotenv_path = join(dirname('__file__'), '.env')\n",
    "\n",
    "load_dotenv(dotenv_path)\n",
    "\n",
    "DATALAKE_PATH = os.environ.get(\"DATALAKE_PATH\")\n",
    "ROOT_PATH = os.environ.get(\"ROOT_PATH\")\n",
    "SOURCE_PATH = os.environ.get(\"SOURCE_PATH\")\n",
    "\n",
    "SUB_PATH = 'tuh_seizures/processed/features_v2'"
   ]
  },
  {
   "cell_type": "code",
   "execution_count": 3,
   "metadata": {},
   "outputs": [],
   "source": [
    "def build_dataset(type_dataset:str):\n",
    "    \n",
    "    files = glob.glob(f'{DATALAKE_PATH}/{SUB_PATH}/{type_dataset}/*.mat')\n",
    "\n",
    "    D = []\n",
    "\n",
    "    for f in files:\n",
    "        d = loadmat(f)\n",
    "\n",
    "        data = {\n",
    "            'entropy_log_energy': d['entropy_log_energy'][0],\n",
    "            'entropy_shannon': d['entropy_shannon'][0],\n",
    "            'kur_log_energy': d['kur_log_energy'][0],\n",
    "            'kur_shannon': d['kur_shannon'][0],\n",
    "            'kurs': d['kurs'][0],\n",
    "            'skew_log_energy': d['skew_log_energy'][0],\n",
    "            'skew_shannon': d['skew_shannon'][0],\n",
    "            'skews': d['skews'][0],\n",
    "            'var_log_energy': d['var_log_energy'][0],\n",
    "            'var_shannon': d['var_shannon'][0],\n",
    "            'vars': d['vars'][0],\n",
    "            'label': np.repeat(d['label'][0],d['entropy_log_energy'][0].shape[0])\n",
    "            }\n",
    "\n",
    "        D.append(pd.DataFrame(data=data))\n",
    "\n",
    "    df = pd.concat(D)\n",
    "\n",
    "    df.to_parquet(f'../data/{type_dataset}_dataset.parquet',engine='pyarrow')\n",
    "    "
   ]
  },
  {
   "cell_type": "code",
   "execution_count": 8,
   "metadata": {},
   "outputs": [],
   "source": [
    "build_dataset('train')"
   ]
  }
 ],
 "metadata": {
  "kernelspec": {
   "display_name": ".venv",
   "language": "python",
   "name": "python3"
  },
  "language_info": {
   "codemirror_mode": {
    "name": "ipython",
    "version": 3
   },
   "file_extension": ".py",
   "mimetype": "text/x-python",
   "name": "python",
   "nbconvert_exporter": "python",
   "pygments_lexer": "ipython3",
   "version": "3.10.12"
  }
 },
 "nbformat": 4,
 "nbformat_minor": 2
}
